{
 "cells": [
  {
   "cell_type": "markdown",
   "id": "e6ddfca1-5566-40cf-9203-0e547f3420e3",
   "metadata": {},
   "source": [
    "PROJECT-1 => Temperature Convertor"
   ]
  },
  {
   "cell_type": "code",
   "execution_count": 2,
   "id": "c80db4db-bcf6-4ffa-8d33-1232799effc4",
   "metadata": {},
   "outputs": [
    {
     "data": {
      "text/plain": [
       "37.0"
      ]
     },
     "execution_count": 2,
     "metadata": {},
     "output_type": "execute_result"
    }
   ],
   "source": [
    "def fahrenheitToCelsius(fahrenheit):\n",
    "    celsius=(fahrenheit-32)*5/9\n",
    "    return celsius\n",
    "\n",
    "fahrenheitToCelsius(98.6)\n",
    "    "
   ]
  },
  {
   "cell_type": "code",
   "execution_count": 16,
   "id": "f8c75f32-8255-4da5-9d54-ccbac5c4abd1",
   "metadata": {},
   "outputs": [
    {
     "name": "stdin",
     "output_type": "stream",
     "text": [
      "Enter the value of celsius :  37\n"
     ]
    },
    {
     "name": "stdout",
     "output_type": "stream",
     "text": [
      "98.60000000000001\n"
     ]
    }
   ],
   "source": [
    "def celsiusToFahreheit(celsius):\n",
    "    fahrenheit=9/5*(celsius)+32\n",
    "    print(fahrenheit)\n",
    "\n",
    "value=float(input(\"Enter the value of celsius : \"))\n",
    "celsiusToFahreheit(value)    "
   ]
  },
  {
   "cell_type": "markdown",
   "id": "12a5358f-4983-4dbf-87bb-586b8cf0115f",
   "metadata": {},
   "source": [
    "PROJECT-2 => Calculator\n"
   ]
  },
  {
   "cell_type": "code",
   "execution_count": 30,
   "id": "49292b1a-9129-43ed-b7a3-a189790a9c56",
   "metadata": {},
   "outputs": [
    {
     "name": "stdin",
     "output_type": "stream",
     "text": [
      "Enter the choice (+ ,- , *, / , %) 67\n",
      "Enter the first value  :  0\n",
      "Enter the second value :  12\n"
     ]
    },
    {
     "name": "stdout",
     "output_type": "stream",
     "text": [
      "Invalid choice\n"
     ]
    }
   ],
   "source": [
    "def add(a, b):\n",
    "    return a+b\n",
    "\n",
    "def subtract(a , b):\n",
    "    return a-b\n",
    "\n",
    "def multiply(a,b):\n",
    "    return a*b\n",
    "\n",
    "def divide(a, b):\n",
    "    if b==0:\n",
    "        return (\"Error! value must not equal to zero \")\n",
    "    return a/b\n",
    "\n",
    "def remainder(a, b):\n",
    "    return a%b\n",
    "\n",
    "choice = input(\"Enter the choice (+ ,- , *, / , %)\")\n",
    "\n",
    "try:\n",
    "\n",
    "    a=float(input(\"Enter the first value  : \"))\n",
    "    b=float(input(\"Enter the second value : \"))\n",
    "    if choice == '+':\n",
    "        print(\"Result : \", add(a,b))\n",
    "    elif choice == '-':\n",
    "        print(\"Result : \" , sub(a, b))\n",
    "    elif choice == '*':\n",
    "        print(\"Result : \" , multiply(a, b))\n",
    "    elif choice == '/':\n",
    "        print(\"Result : \", divide(a , b))\n",
    "    elif choice == '%':\n",
    "        print(\"Result : \" , remainder(a , b))\n",
    "    else:\n",
    "        print(\"Invalid choice\")\n",
    "\n",
    "except ValueError:\n",
    "    print(\"Invalid Input\")\n",
    "              \n",
    "    "
   ]
  },
  {
   "cell_type": "markdown",
   "id": "7051c43f-59e5-471e-b00a-a01700297f99",
   "metadata": {},
   "source": [
    "Client Project -> Data Processing Script (Calculate Avergae of the temperature)"
   ]
  },
  {
   "cell_type": "code",
   "execution_count": 36,
   "id": "582c3319-55eb-48af-aa58-56eeec8dec80",
   "metadata": {},
   "outputs": [
    {
     "data": {
      "text/plain": [
       "45.12"
      ]
     },
     "execution_count": 36,
     "metadata": {},
     "output_type": "execute_result"
    }
   ],
   "source": [
    "def avgTemperature(list_data):\n",
    "    if not list_data:\n",
    "        return None\n",
    "    avg_data=sum(list_data)/len(list_data)\n",
    "    return avg_data\n",
    "\n",
    "list_data=[47.6, 48.1, 46.1, 45.8, 38.0]\n",
    "avgTemperature(list_data)\n",
    "    "
   ]
  },
  {
   "cell_type": "code",
   "execution_count": 38,
   "id": "febda888-a37a-42b0-9765-94d469c5ebad",
   "metadata": {},
   "outputs": [
    {
     "data": {
      "text/plain": [
       "{'average': 41.983333333333334, 'max': 50.0, 'min': 32.8}"
      ]
     },
     "execution_count": 38,
     "metadata": {},
     "output_type": "execute_result"
    }
   ],
   "source": [
    "def dataProcess(list_data1):\n",
    "    if not list_data1:\n",
    "        return None\n",
    "    avg_data1=sum(list_data1)/len(list_data1)\n",
    "    max_data1=max(list_data1)\n",
    "    min_data1=min(list_data1)\n",
    "    return {\n",
    "        \"average\":avg_data1,\n",
    "        \"max\": max_data1,\n",
    "        \"min\":min_data1\n",
    "    }\n",
    "list_data1=[35.7, 43.2, 50.0, 48.4, 32.8, 41.8]\n",
    "\n",
    "dataProcess(list_data1)"
   ]
  },
  {
   "cell_type": "code",
   "execution_count": null,
   "id": "a4e5f2ec-51f8-4808-993f-4395628673be",
   "metadata": {},
   "outputs": [],
   "source": []
  },
  {
   "cell_type": "markdown",
   "id": "012d2989-0dc9-452d-8171-ebe0e48e63c7",
   "metadata": {},
   "source": [
    "WEEK -> 2"
   ]
  },
  {
   "cell_type": "markdown",
   "id": "ce76fd31-0f1f-47cc-9a8c-2969919fac0a",
   "metadata": {},
   "source": [
    "List , Tuple, Dictionary"
   ]
  },
  {
   "cell_type": "code",
   "execution_count": 53,
   "id": "262fb407-edc7-45b0-ab1b-885894c026eb",
   "metadata": {},
   "outputs": [
    {
     "name": "stdout",
     "output_type": "stream",
     "text": [
      "['Apple', 'Banana', 'Orange', 'Mango', 'Papaya', 'Grapes']\n"
     ]
    }
   ],
   "source": [
    "my_list=[\"Apple\", \"Banana\", \"Orange\", \"Mango\", \"Papaya\", \"Grapes\"]\n",
    "print(my_list)"
   ]
  },
  {
   "cell_type": "code",
   "execution_count": 55,
   "id": "49efef60-a7a1-4258-ad52-2c42baaa78b1",
   "metadata": {},
   "outputs": [
    {
     "name": "stdout",
     "output_type": "stream",
     "text": [
      "['Grapes', 'Mango', 'Orange']\n"
     ]
    }
   ],
   "source": [
    "my_list.sort()\n",
    "my_list.append(False)\n",
    "print(my_list[2:5])"
   ]
  },
  {
   "cell_type": "code",
   "execution_count": 57,
   "id": "6ff90eed-8daf-40dd-9eb1-35af39c7037b",
   "metadata": {},
   "outputs": [
    {
     "name": "stdout",
     "output_type": "stream",
     "text": [
      "('one', 'two', 'three')\n"
     ]
    }
   ],
   "source": [
    "my_tuple=(\"one\", \"two\", \"three\")\n",
    "print(my_tuple)"
   ]
  },
  {
   "cell_type": "markdown",
   "id": "66bf6653-564d-4074-b00d-6e52828a65ba",
   "metadata": {},
   "source": [
    "Hands On Project -> Data Transformation, Data Filtering, work on data structures"
   ]
  },
  {
   "cell_type": "code",
   "execution_count": 70,
   "id": "a64ad4ae-586a-4035-bb87-cd7af66a89fb",
   "metadata": {},
   "outputs": [
    {
     "name": "stdout",
     "output_type": "stream",
     "text": [
      "['  alice', 'bob', 'alice', 'eve ']\n"
     ]
    }
   ],
   "source": [
    "# Data Transformation\n",
    "\n",
    "def transform_data(data_list):\n",
    "    after_tranform=[value.lower() for value in data_list]\n",
    "    print(after_tranform)\n",
    "\n",
    "raw_data = [\"  Alice\", \"BOB\", \"alice\", \"Eve \"]\n",
    "transform_data(raw_data)\n",
    "\n",
    "    "
   ]
  },
  {
   "cell_type": "code",
   "execution_count": 72,
   "id": "892b09ac-a9ad-4c16-b9c3-5921b2459cb1",
   "metadata": {},
   "outputs": [
    {
     "data": {
      "text/plain": [
       "[2, 6, 12]"
      ]
     },
     "execution_count": 72,
     "metadata": {},
     "output_type": "execute_result"
    }
   ],
   "source": [
    "# Data Filtering -> filter even number from the list\n",
    "def filterEvenNumber(raw_list):\n",
    "    filter_data=[x for x in raw_list if x % 2 == 0]\n",
    "    return filter_data\n",
    "\n",
    "raw_list=[2,3,6,7,9,1,12]\n",
    "filterEvenNumber(raw_list)\n"
   ]
  },
  {
   "cell_type": "code",
   "execution_count": 87,
   "id": "9be6c245-cf8e-4467-893b-e23f8193df95",
   "metadata": {},
   "outputs": [
    {
     "data": {
      "text/plain": [
       "['orange', 'mango', 'apple', 'banana']"
      ]
     },
     "execution_count": 87,
     "metadata": {},
     "output_type": "execute_result"
    }
   ],
   "source": [
    "# Data Cleaning -> Remove the white space and empty string and duplicate to cleaning the list\n",
    "\n",
    "def dataCleaning(raw_list):\n",
    "    cleaned_data=[value.strip().lower() for value in raw_list if value.strip()!=\"\"]\n",
    "    final_clean_data=list(set(cleaned_data))\n",
    "    return final_clean_data\n",
    "\n",
    "\n",
    "raw_list=[\"MANGO\", \" \", \"oRANGE\", \"\", \"Apple\", \"Apple\", \"banana  \",]\n",
    "dataCleaning(raw_list)\n"
   ]
  },
  {
   "cell_type": "code",
   "execution_count": 106,
   "id": "1a99d53a-324b-4dc7-a768-a750a1b08131",
   "metadata": {},
   "outputs": [
    {
     "data": {
      "text/plain": [
       "[1, 4, 9, 16, 25, 81, 144, 256]"
      ]
     },
     "execution_count": 106,
     "metadata": {},
     "output_type": "execute_result"
    }
   ],
   "source": [
    "# Data Tranformation-> Sum of Square\n",
    "def sumOfSquare(data_list):\n",
    "    return sum(x**2 for x in data_list)\n",
    "\n",
    "def squareAll(data_list):\n",
    "    return [x**2 for x in data_list]\n",
    "\n",
    "\n",
    "data_list=[1,2,3,4,5,9,12,16]\n",
    "\n",
    "sumOfSquare(data_list)\n",
    "\n",
    "squareAll(data_list)\n"
   ]
  },
  {
   "cell_type": "markdown",
   "id": "d763712e-6cd3-4dc7-9a75-6b6e26cac1c8",
   "metadata": {},
   "source": [
    "Client Project:\n",
    " Write a script for data cleaning (e.g., remove duplicates, filter \n",
    "data). "
   ]
  },
  {
   "cell_type": "code",
   "execution_count": 177,
   "id": "56478d25-83f7-4ede-b4d6-616994a8b2ca",
   "metadata": {},
   "outputs": [
    {
     "data": {
      "text/plain": [
       "[10, 20, 30, 40, 50]"
      ]
     },
     "execution_count": 177,
     "metadata": {},
     "output_type": "execute_result"
    }
   ],
   "source": [
    "def clean_filter_data(raw_data):\n",
    "    cleaned_data=[]\n",
    "    \n",
    "    for val in raw_data:\n",
    "        val=val.strip()\n",
    "        if val.isdigit():\n",
    "            cleaned_data.append(int(val))\n",
    "            \n",
    "\n",
    "    final_data=sorted(list(set(cleaned_data)))\n",
    "    return final_data\n",
    "\n",
    "raw_data = [\"10\", \"20\", \" \", \"30\", \"20\", \"ten\", \"40\", \"\", \"30\", \" 50 \", \"NaN\"]\n",
    "clean_filter_data(raw_data)\n"
   ]
  },
  {
   "cell_type": "code",
   "execution_count": null,
   "id": "314e9148-dba7-4d96-aa0e-58bbb4dbd496",
   "metadata": {},
   "outputs": [],
   "source": []
  },
  {
   "cell_type": "code",
   "execution_count": null,
   "id": "325c8d6f-a998-4c69-a581-830d0b5aee07",
   "metadata": {},
   "outputs": [],
   "source": []
  },
  {
   "cell_type": "code",
   "execution_count": null,
   "id": "d0900d0e-74a7-4470-a3fe-d03c6d3fea68",
   "metadata": {},
   "outputs": [],
   "source": []
  },
  {
   "cell_type": "code",
   "execution_count": null,
   "id": "c86b67ab-f9f6-40d6-bf3e-80c80da6451b",
   "metadata": {},
   "outputs": [],
   "source": []
  },
  {
   "cell_type": "code",
   "execution_count": null,
   "id": "cb9a9f9a-6746-4bab-b887-d5667c6dabc3",
   "metadata": {},
   "outputs": [],
   "source": []
  },
  {
   "cell_type": "code",
   "execution_count": null,
   "id": "1aa5e040-5e12-4c6d-b0dd-0a2d17e93af6",
   "metadata": {},
   "outputs": [],
   "source": []
  },
  {
   "cell_type": "code",
   "execution_count": null,
   "id": "9a03f6a8-f8ce-49ac-a60d-62a107ed78d7",
   "metadata": {},
   "outputs": [],
   "source": []
  },
  {
   "cell_type": "code",
   "execution_count": null,
   "id": "1f8d3d33-b892-4284-8dca-0c928eb1e9a8",
   "metadata": {},
   "outputs": [],
   "source": []
  }
 ],
 "metadata": {
  "kernelspec": {
   "display_name": "Python [conda env:base] *",
   "language": "python",
   "name": "conda-base-py"
  },
  "language_info": {
   "codemirror_mode": {
    "name": "ipython",
    "version": 3
   },
   "file_extension": ".py",
   "mimetype": "text/x-python",
   "name": "python",
   "nbconvert_exporter": "python",
   "pygments_lexer": "ipython3",
   "version": "3.12.7"
  }
 },
 "nbformat": 4,
 "nbformat_minor": 5
}
