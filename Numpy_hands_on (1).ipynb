{
 "cells": [
  {
   "cell_type": "code",
   "execution_count": 125,
   "id": "86ac1c25-bbd1-46d3-ae46-e5c925411e6f",
   "metadata": {},
   "outputs": [],
   "source": [
    "import numpy as np"
   ]
  },
  {
   "cell_type": "code",
   "execution_count": 127,
   "id": "732bba6e-adb4-4672-86d8-5a57515c6ebb",
   "metadata": {},
   "outputs": [
    {
     "name": "stdout",
     "output_type": "stream",
     "text": [
      "[ 1  2  3  6 78]\n"
     ]
    }
   ],
   "source": [
    "arr = np.array([1,2,3,6,78])\n",
    "print(arr)"
   ]
  },
  {
   "cell_type": "code",
   "execution_count": 129,
   "id": "3c674792-7c67-40cf-afc6-0aa1c6634742",
   "metadata": {},
   "outputs": [
    {
     "name": "stdout",
     "output_type": "stream",
     "text": [
      "Requirement already satisfied: numpy in c:\\users\\hp\\anaconda3\\lib\\site-packages (1.26.4)Note: you may need to restart the kernel to use updated packages.\n",
      "\n"
     ]
    }
   ],
   "source": [
    "pip install numpy"
   ]
  },
  {
   "cell_type": "code",
   "execution_count": 130,
   "id": "271a2c9e-4970-4857-bc96-7b7d2d2afc25",
   "metadata": {},
   "outputs": [
    {
     "name": "stdout",
     "output_type": "stream",
     "text": [
      "1.26.4\n"
     ]
    }
   ],
   "source": [
    "print(np.__version__)"
   ]
  },
  {
   "cell_type": "code",
   "execution_count": 131,
   "id": "3c05e2ed-875f-4ef9-b2a3-cd57254620cd",
   "metadata": {},
   "outputs": [
    {
     "name": "stdout",
     "output_type": "stream",
     "text": [
      "[ 1  2  3 56]\n"
     ]
    }
   ],
   "source": [
    "arr_1=np.array((1,2,3,56))\n",
    "print(arr_1)"
   ]
  },
  {
   "cell_type": "code",
   "execution_count": 132,
   "id": "7a81c7db-0d5a-488b-8af1-2cafd9d77f6a",
   "metadata": {},
   "outputs": [
    {
     "name": "stdout",
     "output_type": "stream",
     "text": [
      "[ 1 21  3  4  5 78 90]\n",
      "[[ 2 34  1 27]\n",
      " [ 1 65 32 90]]\n",
      "[[[ 1  2  3]\n",
      "  [ 5  6  7]]\n",
      "\n",
      " [[11 12 13]\n",
      "  [15 16 17]]]\n",
      "3\n"
     ]
    }
   ],
   "source": [
    "arr_1d=np.array([1,21,3,4,5,78,90,])\n",
    "arr_2d=np.array([[2,34,1,27], [1,65,32,90]])\n",
    "arr_3d=np.array([[[1,2,3], [5,6,7]],[[11,12,13], [15,16,17]]])\n",
    "print(arr_1d)\n",
    "print(arr_2d)\n",
    "print(arr_3d)\n",
    "print(arr_3d.ndim)"
   ]
  },
  {
   "cell_type": "code",
   "execution_count": 133,
   "id": "81c4794c-6177-48bd-aa5e-9657feffdfdc",
   "metadata": {},
   "outputs": [
    {
     "name": "stdout",
     "output_type": "stream",
     "text": [
      "[[[[[1 2 3 4 5]]]]]\n",
      "5\n"
     ]
    }
   ],
   "source": [
    "arr_ndem=np.array([1,2,3,4,5] , ndmin=5)\n",
    "print(arr_ndem)\n",
    "print(arr_ndem.ndim)"
   ]
  },
  {
   "cell_type": "markdown",
   "id": "31ce4436-816b-4ba6-8ed4-174d36d38782",
   "metadata": {},
   "source": [
    "Array Access"
   ]
  },
  {
   "cell_type": "code",
   "execution_count": 135,
   "id": "3b999e4a-2b49-4a49-b4f2-b64cd17bb55c",
   "metadata": {},
   "outputs": [
    {
     "name": "stdout",
     "output_type": "stream",
     "text": [
      "8\n"
     ]
    }
   ],
   "source": [
    "arr=np.array([[1,2,3,4,5], [6,7,8,9,10]])\n",
    "print(arr[1,2])"
   ]
  },
  {
   "cell_type": "code",
   "execution_count": 142,
   "id": "9fdcaa8b-5084-4a0e-802d-07a575340874",
   "metadata": {},
   "outputs": [
    {
     "name": "stdout",
     "output_type": "stream",
     "text": [
      "17\n"
     ]
    }
   ],
   "source": [
    "print(arr[1,2] + arr[1,3])"
   ]
  },
  {
   "cell_type": "code",
   "execution_count": 144,
   "id": "77ceaf59-1607-4f01-8263-caf09d92576b",
   "metadata": {},
   "outputs": [
    {
     "name": "stdout",
     "output_type": "stream",
     "text": [
      "16\n"
     ]
    }
   ],
   "source": [
    "print(arr[1,1]+ arr[1,3])"
   ]
  },
  {
   "cell_type": "markdown",
   "id": "62ce68f2-3790-4899-b85d-00c1d68b6336",
   "metadata": {},
   "source": [
    "Slicing Array"
   ]
  },
  {
   "cell_type": "code",
   "execution_count": 147,
   "id": "4d072d0d-b278-4bbf-bef8-ff47c138af4f",
   "metadata": {},
   "outputs": [
    {
     "name": "stdout",
     "output_type": "stream",
     "text": [
      "[4 5 6 7]\n",
      "[3 5 7]\n"
     ]
    }
   ],
   "source": [
    "arr=np.array([2,3,4,5,6,7,8])\n",
    "print(arr[2:6])\n",
    "print(arr[1:6:2])"
   ]
  },
  {
   "cell_type": "code",
   "execution_count": 149,
   "id": "a02f6f83-c621-4236-a7bb-a356e3657244",
   "metadata": {},
   "outputs": [
    {
     "name": "stdout",
     "output_type": "stream",
     "text": [
      "[[2]\n",
      " [7]]\n"
     ]
    }
   ],
   "source": [
    "arr=np.array([[1,2,3,4,5], [6,7,8,9,10]])\n",
    "print(arr[0:2 , 1:2])"
   ]
  },
  {
   "cell_type": "code",
   "execution_count": 151,
   "id": "429e4a03-17a5-4fd0-9060-86ebd3f99f45",
   "metadata": {},
   "outputs": [
    {
     "name": "stdout",
     "output_type": "stream",
     "text": [
      "int32\n"
     ]
    }
   ],
   "source": [
    "arr=np.array([1,2,3,4,5])\n",
    "print(arr.dtype)"
   ]
  },
  {
   "cell_type": "code",
   "execution_count": 153,
   "id": "636b827c-a253-4a85-bdea-a8dbf5ce082a",
   "metadata": {},
   "outputs": [
    {
     "name": "stdout",
     "output_type": "stream",
     "text": [
      "<U1\n"
     ]
    }
   ],
   "source": [
    "arr=np.array(['A', 'B', 'C'])\n",
    "print(arr.dtype)"
   ]
  },
  {
   "cell_type": "code",
   "execution_count": 155,
   "id": "28592be3-69a9-44e8-8152-154b532a5227",
   "metadata": {},
   "outputs": [
    {
     "name": "stdout",
     "output_type": "stream",
     "text": [
      "[b'1' b'2' b'3' b'4']\n",
      "|S1\n"
     ]
    }
   ],
   "source": [
    "arr=np.array([1,2,3,4], dtype='S')\n",
    "print(arr)\n",
    "print(arr.dtype)"
   ]
  },
  {
   "cell_type": "code",
   "execution_count": 157,
   "id": "2cc1a665-38cd-41d3-9f36-e9d328597ed9",
   "metadata": {},
   "outputs": [
    {
     "name": "stdout",
     "output_type": "stream",
     "text": [
      "[1 2 3 4 5]\n",
      "int32\n"
     ]
    }
   ],
   "source": [
    "arr=np.array([1,2,3,4,5], dtype='i4')\n",
    "print(arr)\n",
    "print(arr.dtype)"
   ]
  },
  {
   "cell_type": "code",
   "execution_count": 159,
   "id": "142945ab-b08d-4c0b-95cc-136e11a04578",
   "metadata": {},
   "outputs": [
    {
     "name": "stdout",
     "output_type": "stream",
     "text": [
      "[1.2 2.5 3.6 4.7]\n",
      "[1 2 3 4]\n"
     ]
    }
   ],
   "source": [
    "arr=np.array([1.2, 2.5, 3.6, 4.7])\n",
    "newarr=arr.astype(int)\n",
    "print(arr)\n",
    "print(newarr)"
   ]
  },
  {
   "cell_type": "code",
   "execution_count": 161,
   "id": "05277506-d402-4637-8f0c-4db8a226a79b",
   "metadata": {},
   "outputs": [
    {
     "name": "stdout",
     "output_type": "stream",
     "text": [
      "[23  2  3 54  5]\n",
      "[1 2 3 4 5]\n"
     ]
    }
   ],
   "source": [
    "arr=np.array([1,2,3,4,5])\n",
    "copy_arr=arr.copy()\n",
    "arr[0]=23\n",
    "arr[3]=54\n",
    "print(arr)\n",
    "print(copy_arr)"
   ]
  },
  {
   "cell_type": "code",
   "execution_count": 163,
   "id": "9e518660-f05f-4461-b584-f3c8b17fdc1d",
   "metadata": {},
   "outputs": [
    {
     "name": "stdout",
     "output_type": "stream",
     "text": [
      "(2, 6)\n"
     ]
    }
   ],
   "source": [
    "arr=np.array([[1,2,3,4,5,6], [6,7,8,9,10,11]])\n",
    "print(arr.shape)"
   ]
  },
  {
   "cell_type": "code",
   "execution_count": 165,
   "id": "194cb297-bae7-43ec-a7df-564937216b3e",
   "metadata": {},
   "outputs": [
    {
     "name": "stdout",
     "output_type": "stream",
     "text": [
      "1\n",
      "2\n",
      "3\n",
      "4\n",
      "5\n",
      "6\n"
     ]
    }
   ],
   "source": [
    "arr=np.array([1,2,3,4,5,6])\n",
    "for x in arr:\n",
    "    print(x)"
   ]
  },
  {
   "cell_type": "code",
   "execution_count": 167,
   "id": "61e87b0b-ed48-4633-8ab2-2562e2dfa56b",
   "metadata": {},
   "outputs": [
    {
     "name": "stdout",
     "output_type": "stream",
     "text": [
      "1\n",
      "2\n",
      "3\n",
      "4\n",
      "5\n",
      "6\n",
      "7\n",
      "8\n"
     ]
    }
   ],
   "source": [
    "arr=np.array([[1,2,3,4], [5,6,7,8]])\n",
    "for x in arr:\n",
    "    for y in x:\n",
    "        print(y)"
   ]
  },
  {
   "cell_type": "code",
   "execution_count": 169,
   "id": "9071d3b8-03eb-44f2-94ba-71ab73ae8446",
   "metadata": {},
   "outputs": [
    {
     "name": "stdout",
     "output_type": "stream",
     "text": [
      "1\n",
      "2\n",
      "3\n",
      "4\n",
      "5\n",
      "6\n",
      "7\n",
      "8\n",
      "9\n",
      "10\n"
     ]
    }
   ],
   "source": [
    "arr= np.array([[1,2,3,4,5],[6,7,8,9,10]])\n",
    "for x in np.nditer(arr):\n",
    "    print(x)"
   ]
  },
  {
   "cell_type": "code",
   "execution_count": 171,
   "id": "4b07666a-773e-4bd8-b3d8-4422cd6cb00a",
   "metadata": {},
   "outputs": [
    {
     "name": "stdout",
     "output_type": "stream",
     "text": [
      "(0, 0) 1\n",
      "(0, 1) 2\n",
      "(0, 2) 3\n",
      "(0, 3) 4\n",
      "(0, 4) 5\n",
      "(1, 0) 6\n",
      "(1, 1) 7\n",
      "(1, 2) 8\n",
      "(1, 3) 9\n",
      "(1, 4) 10\n"
     ]
    }
   ],
   "source": [
    "for idx , x in np.ndenumerate(arr):\n",
    "    print(idx, x)"
   ]
  },
  {
   "cell_type": "code",
   "execution_count": 173,
   "id": "d2d09c54-afbf-4774-8091-9e66ebdfd6ac",
   "metadata": {},
   "outputs": [
    {
     "name": "stdout",
     "output_type": "stream",
     "text": [
      "[[ 1  2  3  4]\n",
      " [ 5  6  7  8]\n",
      " [ 9 10 11 12]\n",
      " [13 14 15 16]]\n"
     ]
    }
   ],
   "source": [
    "arr_1=np.array([[1,2,3,4], [5,6,7,8]])\n",
    "arr_2=np.array([[9,10,11,12],[13,14,15,16]])\n",
    "arr_3=np.concatenate((arr_1, arr_2))\n",
    "print(arr_3)"
   ]
  },
  {
   "cell_type": "code",
   "execution_count": 175,
   "id": "1a6e16a0-2d57-4032-9702-ddcbcb17d6fd",
   "metadata": {},
   "outputs": [
    {
     "name": "stdout",
     "output_type": "stream",
     "text": [
      "[[ 1  2  3  4  9 10 11 12]\n",
      " [ 5  6  7  8 13 14 15 16]]\n"
     ]
    }
   ],
   "source": [
    "arr_4=np.concatenate((arr_1, arr_2), axis=1)\n",
    "print(arr_4)"
   ]
  },
  {
   "cell_type": "code",
   "execution_count": 177,
   "id": "ba2a7ff0-0526-4242-8311-762b9121d853",
   "metadata": {},
   "outputs": [
    {
     "name": "stdout",
     "output_type": "stream",
     "text": [
      "[array([1, 2]), array([3, 4]), array([5, 6]), array([7, 8])]\n"
     ]
    }
   ],
   "source": [
    "arr=np.array([1,2,3,4,5,6,7,8])\n",
    "new_array=np.array_split(arr, 4)\n",
    "print(new_array)"
   ]
  },
  {
   "cell_type": "markdown",
   "id": "7cd89298-a62b-4905-aa77-16f168caa658",
   "metadata": {},
   "source": [
    "Filter Array"
   ]
  },
  {
   "cell_type": "code",
   "execution_count": 202,
   "id": "0b93d9e9-5837-45e2-9a89-42a0e8ae1ffa",
   "metadata": {},
   "outputs": [
    {
     "name": "stdout",
     "output_type": "stream",
     "text": [
      "[23 34]\n",
      "[False, True, False, True, False]\n"
     ]
    }
   ],
   "source": [
    "# creaate a filter array that value is graeter than 20 \n",
    "def filterArray(arr):\n",
    "    filter_arr=[]\n",
    "    for x in arr:\n",
    "        if x > 20:\n",
    "            filter_arr.append(True)\n",
    "        else:\n",
    "            filter_arr.append(False)\n",
    "\n",
    "    new_arr=arr[filter_arr]\n",
    "    print(new_arr)\n",
    "    print(filter_arr)\n",
    "\n",
    "arr=np.array([1,23,5,34,12])\n",
    "filterArray(arr)\n",
    "    "
   ]
  },
  {
   "cell_type": "code",
   "execution_count": 198,
   "id": "f2abe400-ab0e-4389-a878-81f5d9f4a288",
   "metadata": {},
   "outputs": [
    {
     "name": "stdout",
     "output_type": "stream",
     "text": [
      "[False, False, True, True]\n",
      "[43 44]\n"
     ]
    }
   ],
   "source": [
    "arr = np.array([41, 42, 43, 44])\n",
    "\n",
    "# Create an empty list\n",
    "filter_arr = []\n",
    "\n",
    "# go through each element in arr\n",
    "for element in arr:\n",
    "  # if the element is higher than 42, set the value to True, otherwise False:\n",
    "  if element > 42:\n",
    "    filter_arr.append(True)\n",
    "  else:\n",
    "    filter_arr.append(False)\n",
    "\n",
    "newarr = arr[filter_arr]\n",
    "\n",
    "print(filter_arr)\n",
    "print(newarr)"
   ]
  },
  {
   "cell_type": "code",
   "execution_count": 219,
   "id": "e27d8686-9eb6-4721-981a-aabf8af7d458",
   "metadata": {},
   "outputs": [
    {
     "name": "stdout",
     "output_type": "stream",
     "text": [
      "[False, False, True, True, False, True, True, False]\n",
      "[ 2  6  8 12]\n"
     ]
    }
   ],
   "source": [
    "# Create a filter array that will return only even elements from the original array:\n",
    "\n",
    "def filterArrayEven(arr):\n",
    "    filter_arr=[]\n",
    "    for x in arr:\n",
    "        if x%2==0:\n",
    "            filter_arr.append(True)\n",
    "        else:\n",
    "            filter_arr.append(False)\n",
    "    copy_arr=arr[filter_arr]\n",
    "    print(filter_arr)\n",
    "    print(copy_arr)\n",
    "arr=np.array([1,3,2,6,7,8,12,11])\n",
    "filterArrayEven(arr)\n",
    "    "
   ]
  },
  {
   "cell_type": "code",
   "execution_count": 1,
   "id": "f754ca75-1a1a-44ce-a7bd-bb4aa5bc95f2",
   "metadata": {},
   "outputs": [
    {
     "name": "stdout",
     "output_type": "stream",
     "text": [
      "Requirement already satisfied: seaborn in c:\\users\\hp\\anaconda3\\lib\\site-packages (0.13.2)\n",
      "Requirement already satisfied: numpy!=1.24.0,>=1.20 in c:\\users\\hp\\anaconda3\\lib\\site-packages (from seaborn) (1.26.4)\n",
      "Requirement already satisfied: pandas>=1.2 in c:\\users\\hp\\anaconda3\\lib\\site-packages (from seaborn) (2.2.2)\n",
      "Requirement already satisfied: matplotlib!=3.6.1,>=3.4 in c:\\users\\hp\\anaconda3\\lib\\site-packages (from seaborn) (3.9.2)\n",
      "Requirement already satisfied: contourpy>=1.0.1 in c:\\users\\hp\\anaconda3\\lib\\site-packages (from matplotlib!=3.6.1,>=3.4->seaborn) (1.2.0)\n",
      "Requirement already satisfied: cycler>=0.10 in c:\\users\\hp\\anaconda3\\lib\\site-packages (from matplotlib!=3.6.1,>=3.4->seaborn) (0.11.0)\n",
      "Requirement already satisfied: fonttools>=4.22.0 in c:\\users\\hp\\anaconda3\\lib\\site-packages (from matplotlib!=3.6.1,>=3.4->seaborn) (4.51.0)\n",
      "Requirement already satisfied: kiwisolver>=1.3.1 in c:\\users\\hp\\anaconda3\\lib\\site-packages (from matplotlib!=3.6.1,>=3.4->seaborn) (1.4.4)\n",
      "Requirement already satisfied: packaging>=20.0 in c:\\users\\hp\\anaconda3\\lib\\site-packages (from matplotlib!=3.6.1,>=3.4->seaborn) (24.1)\n",
      "Requirement already satisfied: pillow>=8 in c:\\users\\hp\\anaconda3\\lib\\site-packages (from matplotlib!=3.6.1,>=3.4->seaborn) (10.4.0)\n",
      "Requirement already satisfied: pyparsing>=2.3.1 in c:\\users\\hp\\anaconda3\\lib\\site-packages (from matplotlib!=3.6.1,>=3.4->seaborn) (3.1.2)\n",
      "Requirement already satisfied: python-dateutil>=2.7 in c:\\users\\hp\\anaconda3\\lib\\site-packages (from matplotlib!=3.6.1,>=3.4->seaborn) (2.9.0.post0)\n",
      "Requirement already satisfied: pytz>=2020.1 in c:\\users\\hp\\anaconda3\\lib\\site-packages (from pandas>=1.2->seaborn) (2024.1)\n",
      "Requirement already satisfied: tzdata>=2022.7 in c:\\users\\hp\\anaconda3\\lib\\site-packages (from pandas>=1.2->seaborn) (2023.3)\n",
      "Requirement already satisfied: six>=1.5 in c:\\users\\hp\\anaconda3\\lib\\site-packages (from python-dateutil>=2.7->matplotlib!=3.6.1,>=3.4->seaborn) (1.16.0)\n"
     ]
    }
   ],
   "source": [
    "!pip install seaborn"
   ]
  },
  {
   "cell_type": "code",
   "execution_count": 5,
   "id": "2225cf56-f5d4-4a37-b276-419c4021024d",
   "metadata": {},
   "outputs": [],
   "source": [
    "import matplotlib.pyplot as plt"
   ]
  },
  {
   "cell_type": "code",
   "execution_count": 7,
   "id": "56910f59-d007-4324-94be-71a13cc6ad78",
   "metadata": {},
   "outputs": [
    {
     "data": {
      "image/png": "[encoded data removed]",
      "text/plain": [
       "<Figure size 500x500 with 1 Axes>"
      ]
     },
     "metadata": {},
     "output_type": "display_data"
    }
   ],
   "source": [
    "import matplotlib.pyplot as plt\n",
    "import seaborn as sns\n",
    "\n",
    "sns.displot([0, 1, 2, 3, 4, 5])\n",
    "\n",
    "plt.show()\n"
   ]
  },
  {
   "cell_type": "code",
   "execution_count": 9,
   "id": "4c2b94a6-e445-44aa-84f4-19e90adcf3d2",
   "metadata": {},
   "outputs": [
    {
     "data": {
      "image/png": "[encoded data removed]",
      "text/plain": [
       "<Figure size 500x500 with 1 Axes>"
      ]
     },
     "metadata": {},
     "output_type": "display_data"
    }
   ],
   "source": [
    "import matplotlib.pyplot as plt\n",
    "import seaborn as sns\n",
    "\n",
    "sns.displot([0, 1, 2, 3, 4, 5], kind=\"kde\")\n",
    "\n",
    "plt.show()"
   ]
  },
  {
   "cell_type": "code",
   "execution_count": 11,
   "id": "1ce0ecbe-477c-40fc-845f-00fdaf60b006",
   "metadata": {},
   "outputs": [],
   "source": [
    "from numpy import random"
   ]
  },
  {
   "cell_type": "code",
   "execution_count": 15,
   "id": "ff7e72ec-1d8e-416a-825a-cfc177684b49",
   "metadata": {},
   "outputs": [
    {
     "name": "stdout",
     "output_type": "stream",
     "text": [
      "[[-1.18829784 -1.59893648 -0.47437029]\n",
      " [ 0.06470318 -0.2442926  -1.63456698]]\n"
     ]
    }
   ],
   "source": [
    "x=random.normal(size=(2,3))\n",
    "print(x)"
   ]
  },
  {
   "cell_type": "code",
   "execution_count": 23,
   "id": "631a2b2d-a485-4695-b279-b25e4f163209",
   "metadata": {},
   "outputs": [
    {
     "name": "stdout",
     "output_type": "stream",
     "text": [
      "[[ 0.43863611  0.03145294  3.81233974]\n",
      " [-0.37095792 -1.6938064   1.28957038]]\n"
     ]
    }
   ],
   "source": [
    "y=random.normal(loc=1, scale=2, size=(2,3))\n",
    "print(y)"
   ]
  },
  {
   "cell_type": "code",
   "execution_count": 31,
   "id": "6dd94383-f13c-46b3-988f-c0be48bb1162",
   "metadata": {},
   "outputs": [
    {
     "data": {
      "image/png": "[encoded data removed]",
      "text/plain": [
       "<Figure size 558.875x500 with 1 Axes>"
      ]
     },
     "metadata": {},
     "output_type": "display_data"
    }
   ],
   "source": [
    "sns.displot(random.normal(size=(2,3)), kind='kde')\n",
    "plt.show()"
   ]
  },
  {
   "cell_type": "code",
   "execution_count": 42,
   "id": "d4d31bb8-9580-46c7-8f3a-9b0cf0457e25",
   "metadata": {},
   "outputs": [
    {
     "data": {
      "image/png": "[encoded data removed]",
      "text/plain": [
       "<Figure size 500x500 with 1 Axes>"
      ]
     },
     "metadata": {},
     "output_type": "display_data"
    }
   ],
   "source": [
    "sns.displot(random.binomial(n=10, p=0.8, size=(1000)))\n",
    "plt.show()           "
   ]
  },
  {
   "cell_type": "code",
   "execution_count": 48,
   "id": "628c2b91-3a93-4f85-a2df-36be90a72cc4",
   "metadata": {},
   "outputs": [
    {
     "data": {
      "image/png": "[encoded data removed]",
      "text/plain": [
       "<Figure size 609.875x500 with 1 Axes>"
      ]
     },
     "metadata": {},
     "output_type": "display_data"
    }
   ],
   "source": [
    "data={\n",
    "    \"normal\":random.normal(loc=50, scale=5, size=(1000)),\n",
    "    \"binomial\":random.binomial(n=100, p=0.5, size=(1000))\n",
    "}\n",
    "sns.displot(data, kind='kde')\n",
    "plt.show()"
   ]
  },
  {
   "cell_type": "code",
   "execution_count": 50,
   "id": "9febabc1-011b-4963-8406-c2265ac8e3ec",
   "metadata": {},
   "outputs": [
    {
     "data": {
      "image/png": "[encoded data removed]",
      "text/plain": [
       "<Figure size 500x500 with 1 Axes>"
      ]
     },
     "metadata": {},
     "output_type": "display_data"
    }
   ],
   "source": [
    "sns.displot(random.uniform(low=0.2, high=0.8, size=(10)))\n",
    "plt.show()"
   ]
  },
  {
   "cell_type": "code",
   "execution_count": 11,
   "id": "97c72c6a-a06a-4ce0-b8bf-cb5f4aca00ac",
   "metadata": {},
   "outputs": [
    {
     "name": "stdout",
     "output_type": "stream",
     "text": [
      "[6 8 10 12]\n",
      "[66 168 312 504 750]\n"
     ]
    }
   ],
   "source": [
    "import numpy as np\n",
    "def my_add(x , y):\n",
    "    return x+y\n",
    "\n",
    "def my_mul(x, y, z):\n",
    "    return x*y*z\n",
    "\n",
    "my_add=np.frompyfunc(my_add, 2 ,1)\n",
    "print(my_add([1,2,3,4] , [5,6,7,8]))\n",
    "my_mul=np.frompyfunc(my_mul, 3, 1)\n",
    "print(my_mul([1,2,3,4,5], [6,7,8,9,10], [11,12,13,14,15]))"
   ]
  },
  {
   "cell_type": "code",
   "execution_count": null,
   "id": "305b5cb6-3e99-42e2-9979-25d76dfd5073",
   "metadata": {},
   "outputs": [],
   "source": []
  }
 ],
 "metadata": {
  "kernelspec": {
   "display_name": "Python [conda env:base] *",
   "language": "python",
   "name": "conda-base-py"
  },
  "language_info": {
   "codemirror_mode": {
    "name": "ipython",
    "version": 3
   },
   "file_extension": ".py",
   "mimetype": "text/x-python",
   "name": "python",
   "nbconvert_exporter": "python",
   "pygments_lexer": "ipython3",
   "version": "3.12.7"
  }
 },
 "nbformat": 4,
 "nbformat_minor": 5
}
