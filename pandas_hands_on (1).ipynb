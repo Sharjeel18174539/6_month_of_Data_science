{
 "cells": [
  {
   "cell_type": "code",
   "execution_count": 120,
   "id": "d4501fbf-f368-4c56-9c03-8745860256d4",
   "metadata": {},
   "outputs": [
    {
     "name": "stdout",
     "output_type": "stream",
     "text": [
      "Requirement already satisfied: pandas in c:\\users\\hp\\anaconda3\\lib\\site-packages (2.2.2)\n",
      "Requirement already satisfied: numpy>=1.26.0 in c:\\users\\hp\\anaconda3\\lib\\site-packages (from pandas) (1.26.4)\n",
      "Requirement already satisfied: python-dateutil>=2.8.2 in c:\\users\\hp\\anaconda3\\lib\\site-packages (from pandas) (2.9.0.post0)\n",
      "Requirement already satisfied: pytz>=2020.1 in c:\\users\\hp\\anaconda3\\lib\\site-packages (from pandas) (2024.1)\n",
      "Requirement already satisfied: tzdata>=2022.7 in c:\\users\\hp\\anaconda3\\lib\\site-packages (from pandas) (2023.3)\n",
      "Requirement already satisfied: six>=1.5 in c:\\users\\hp\\anaconda3\\lib\\site-packages (from python-dateutil>=2.8.2->pandas) (1.16.0)\n"
     ]
    }
   ],
   "source": [
    "!pip install pandas"
   ]
  },
  {
   "cell_type": "code",
   "execution_count": 121,
   "id": "d6c1498c-c3cb-4852-aa6e-3fd17b1a6479",
   "metadata": {},
   "outputs": [
    {
     "name": "stdout",
     "output_type": "stream",
     "text": [
      "  car_name     price\n",
      "0    Dzire   1000076\n",
      "1   Accent     20000\n",
      "2      BMW   3514799\n",
      "3    Camry  90712345\n"
     ]
    }
   ],
   "source": [
    "import pandas as pd\n",
    "data_set={\n",
    "    \"car_name\":[\"Dzire\", \"Accent\", \"BMW\", \"Camry\"],\n",
    "    \"price\":[1000076, 20000, 3514799, 90712345]\n",
    "}\n",
    "my_var=pd.DataFrame(data_set)\n",
    "print(my_var)"
   ]
  },
  {
   "cell_type": "code",
   "execution_count": 122,
   "id": "3a1e8162-1ae8-4678-af59-fe1fae3015ea",
   "metadata": {},
   "outputs": [
    {
     "name": "stdout",
     "output_type": "stream",
     "text": [
      "     Duration  Pulse  Maxpulse  Calories\n",
      "0          60    110       130     409.1\n",
      "1          60    117       145     479.0\n",
      "2          60    103       135     340.0\n",
      "3          45    109       175     282.4\n",
      "4          45    117       148     406.0\n",
      "..        ...    ...       ...       ...\n",
      "164        60    105       140     290.8\n",
      "165        60    110       145     300.0\n",
      "166        60    115       145     310.2\n",
      "167        75    120       150     320.4\n",
      "168        75    125       150     330.4\n",
      "\n",
      "[169 rows x 4 columns]\n"
     ]
    }
   ],
   "source": [
    "df = pd.read_csv('data.csv')\n",
    "print(df)"
   ]
  },
  {
   "cell_type": "code",
   "execution_count": 123,
   "id": "e2801c5a-89f2-4568-8987-07391ba8b192",
   "metadata": {},
   "outputs": [],
   "source": [
    "# data_set=pd.read_csv('student_depression_dataset.csv')\n",
    "# print(data_set)"
   ]
  },
  {
   "cell_type": "code",
   "execution_count": 124,
   "id": "0fa1e84b-7bf7-46e9-bef4-cbcf446ad21b",
   "metadata": {},
   "outputs": [],
   "source": [
    "# print(data_set.info())\n",
    "# print(data_set.isnull())"
   ]
  },
  {
   "cell_type": "code",
   "execution_count": 125,
   "id": "b63d9bc6-c7a6-4d2f-bb3b-25f7788d8556",
   "metadata": {},
   "outputs": [],
   "source": [
    "# print(my_data.to_string())"
   ]
  },
  {
   "cell_type": "code",
   "execution_count": 132,
   "id": "1c7bc662-3daf-4061-8890-ec43a73f116a",
   "metadata": {},
   "outputs": [],
   "source": [
    "# print(my_data.info())"
   ]
  },
  {
   "cell_type": "code",
   "execution_count": 134,
   "id": "ce902db8-7172-461d-9dc0-fca81cbf3000",
   "metadata": {},
   "outputs": [],
   "source": [
    "# print(my_data.isnull())"
   ]
  },
  {
   "cell_type": "code",
   "execution_count": 136,
   "id": "a0f61e84-a767-4789-a8c3-fc941c2ee512",
   "metadata": {},
   "outputs": [],
   "source": [
    "# print(my_data.isnull().values.any())"
   ]
  },
  {
   "cell_type": "code",
   "execution_count": 138,
   "id": "c666bf37-7a32-4ae2-bbaf-77858661d9bf",
   "metadata": {},
   "outputs": [],
   "source": [
    "# print(my_data.isnull().sum())"
   ]
  },
  {
   "cell_type": "code",
   "execution_count": 140,
   "id": "b5c0521b-e067-4c1f-9143-3abc4427929b",
   "metadata": {},
   "outputs": [
    {
     "name": "stdout",
     "output_type": "stream",
     "text": [
      "<class 'pandas.core.frame.DataFrame'>\n",
      "RangeIndex: 169 entries, 0 to 168\n",
      "Data columns (total 4 columns):\n",
      " #   Column    Non-Null Count  Dtype  \n",
      "---  ------    --------------  -----  \n",
      " 0   Duration  169 non-null    int64  \n",
      " 1   Pulse     169 non-null    int64  \n",
      " 2   Maxpulse  169 non-null    int64  \n",
      " 3   Calories  164 non-null    float64\n",
      "dtypes: float64(1), int64(3)\n",
      "memory usage: 5.4 KB\n",
      "None\n"
     ]
    }
   ],
   "source": [
    "print(df.info())"
   ]
  },
  {
   "cell_type": "code",
   "execution_count": 142,
   "id": "483431c4-a85d-4972-8f3d-de96d594d737",
   "metadata": {},
   "outputs": [],
   "source": [
    "# print(df.isnull())"
   ]
  },
  {
   "cell_type": "code",
   "execution_count": 144,
   "id": "6676b5c3-0217-43d6-9800-4aed33e3865e",
   "metadata": {},
   "outputs": [
    {
     "name": "stdout",
     "output_type": "stream",
     "text": [
      "True\n"
     ]
    }
   ],
   "source": [
    "print(df.isnull().values.any())"
   ]
  },
  {
   "cell_type": "code",
   "execution_count": 146,
   "id": "5a00d1bd-e9a2-4f64-9b4e-017813c98245",
   "metadata": {},
   "outputs": [
    {
     "name": "stdout",
     "output_type": "stream",
     "text": [
      "Duration    0\n",
      "Pulse       0\n",
      "Maxpulse    0\n",
      "Calories    5\n",
      "dtype: int64\n"
     ]
    }
   ],
   "source": [
    "print(df.isnull().sum())"
   ]
  },
  {
   "cell_type": "code",
   "execution_count": 148,
   "id": "3769113e-0aa5-48ba-94ec-1442e681ce09",
   "metadata": {},
   "outputs": [],
   "source": [
    "# print(df.to_string())"
   ]
  },
  {
   "cell_type": "code",
   "execution_count": 150,
   "id": "715ca481-316e-416e-b307-0e94a173d0d9",
   "metadata": {},
   "outputs": [],
   "source": [
    "# df.dropna(inplace=True)\n",
    "# print(df.to_string())"
   ]
  },
  {
   "cell_type": "code",
   "execution_count": 152,
   "id": "045cb1a8-4b14-4e4f-89fc-3fa41d1edaa4",
   "metadata": {},
   "outputs": [],
   "source": [
    "# print(new_df.info())"
   ]
  },
  {
   "cell_type": "code",
   "execution_count": 154,
   "id": "a28ebbd4-c033-4152-a504-5d133391d7c7",
   "metadata": {},
   "outputs": [
    {
     "name": "stdout",
     "output_type": "stream",
     "text": [
      "<class 'pandas.core.frame.DataFrame'>\n",
      "RangeIndex: 169 entries, 0 to 168\n",
      "Data columns (total 4 columns):\n",
      " #   Column    Non-Null Count  Dtype  \n",
      "---  ------    --------------  -----  \n",
      " 0   Duration  169 non-null    int64  \n",
      " 1   Pulse     169 non-null    int64  \n",
      " 2   Maxpulse  169 non-null    int64  \n",
      " 3   Calories  164 non-null    float64\n",
      "dtypes: float64(1), int64(3)\n",
      "memory usage: 5.4 KB\n",
      "None\n"
     ]
    }
   ],
   "source": [
    "print(df.info())"
   ]
  },
  {
   "cell_type": "code",
   "execution_count": 156,
   "id": "558dff9a-3cf7-435f-a963-ecacc4ededa8",
   "metadata": {},
   "outputs": [
    {
     "name": "stdout",
     "output_type": "stream",
     "text": [
      "     Duration  Pulse  Maxpulse  Calories\n",
      "0          60    110       130     409.1\n",
      "1          60    117       145     479.0\n",
      "2          60    103       135     340.0\n",
      "3          45    109       175     282.4\n",
      "4          45    117       148     406.0\n",
      "..        ...    ...       ...       ...\n",
      "164        60    105       140     290.8\n",
      "165        60    110       145     300.0\n",
      "166        60    115       145     310.2\n",
      "167        75    120       150     320.4\n",
      "168        75    125       150     330.4\n",
      "\n",
      "[169 rows x 4 columns]\n"
     ]
    }
   ],
   "source": [
    "print(df)"
   ]
  },
  {
   "cell_type": "markdown",
   "id": "1d6bb790-d2d0-48e7-8917-9e4806e7f79a",
   "metadata": {},
   "source": [
    "cleaning of data set and flitering "
   ]
  },
  {
   "cell_type": "code",
   "execution_count": 159,
   "id": "66b62ac7-67c4-429c-9e32-87362749b8b5",
   "metadata": {},
   "outputs": [
    {
     "name": "stdout",
     "output_type": "stream",
     "text": [
      "<class 'pandas.core.frame.DataFrame'>\n",
      "RangeIndex: 169 entries, 0 to 168\n",
      "Data columns (total 4 columns):\n",
      " #   Column    Non-Null Count  Dtype  \n",
      "---  ------    --------------  -----  \n",
      " 0   Duration  169 non-null    int64  \n",
      " 1   Pulse     169 non-null    int64  \n",
      " 2   Maxpulse  169 non-null    int64  \n",
      " 3   Calories  164 non-null    float64\n",
      "dtypes: float64(1), int64(3)\n",
      "memory usage: 5.4 KB\n",
      "None\n"
     ]
    }
   ],
   "source": [
    "# We can Replace NULL values in the \"Calories\" columns with the number 130 or any number what we can using fillna()\n",
    "# df.fillna({'Calories':130}, inplace=True)\n",
    "print(df.info())"
   ]
  },
  {
   "cell_type": "markdown",
   "id": "627c8ba1-870d-44a6-91dd-94c271122c29",
   "metadata": {},
   "source": [
    "Now By using Mean Median Mode"
   ]
  },
  {
   "cell_type": "code",
   "execution_count": 162,
   "id": "3c451906-85a4-4e3c-8c07-6a86d6a90797",
   "metadata": {},
   "outputs": [],
   "source": [
    "# x=df['Calories'].mean()\n",
    "# df.fillna({'Calories':x}, inplace=True)\n",
    "# print(df.info())"
   ]
  },
  {
   "cell_type": "code",
   "execution_count": 173,
   "id": "c0089a7b-21b4-40d5-8021-dab193189dcd",
   "metadata": {},
   "outputs": [
    {
     "name": "stdout",
     "output_type": "stream",
     "text": [
      "<class 'pandas.core.frame.DataFrame'>\n",
      "RangeIndex: 169 entries, 0 to 168\n",
      "Data columns (total 4 columns):\n",
      " #   Column    Non-Null Count  Dtype  \n",
      "---  ------    --------------  -----  \n",
      " 0   Duration  169 non-null    int64  \n",
      " 1   Pulse     169 non-null    int64  \n",
      " 2   Maxpulse  169 non-null    int64  \n",
      " 3   Calories  169 non-null    float64\n",
      "dtypes: float64(1), int64(3)\n",
      "memory usage: 5.4 KB\n",
      "None\n"
     ]
    }
   ],
   "source": [
    "# x=df['Calories'].median()\n",
    "# df.fillna({'Calories':x}, inplace=True)\n",
    "print(df.info())"
   ]
  },
  {
   "cell_type": "code",
   "execution_count": 170,
   "id": "1106d616-e9b1-4493-8900-e225ce924a5b",
   "metadata": {},
   "outputs": [
    {
     "name": "stdout",
     "output_type": "stream",
     "text": [
      "<class 'pandas.core.frame.DataFrame'>\n",
      "RangeIndex: 169 entries, 0 to 168\n",
      "Data columns (total 4 columns):\n",
      " #   Column    Non-Null Count  Dtype  \n",
      "---  ------    --------------  -----  \n",
      " 0   Duration  169 non-null    int64  \n",
      " 1   Pulse     169 non-null    int64  \n",
      " 2   Maxpulse  169 non-null    int64  \n",
      " 3   Calories  169 non-null    float64\n",
      "dtypes: float64(1), int64(3)\n",
      "memory usage: 5.4 KB\n",
      "None\n"
     ]
    }
   ],
   "source": [
    "x=df['Calories'].mode()\n",
    "df.fillna({'Calories':x}, inplace=True)\n",
    "print(df.info())"
   ]
  },
  {
   "cell_type": "code",
   "execution_count": null,
   "id": "c92d5e51-be16-4ecb-82a9-0bb4713a77c3",
   "metadata": {},
   "outputs": [],
   "source": []
  },
  {
   "cell_type": "code",
   "execution_count": null,
   "id": "39237d54-7a54-4a12-969a-daf301ed9c5e",
   "metadata": {},
   "outputs": [],
   "source": []
  }
 ],
 "metadata": {
  "kernelspec": {
   "display_name": "Python [conda env:base] *",
   "language": "python",
   "name": "conda-base-py"
  },
  "language_info": {
   "codemirror_mode": {
    "name": "ipython",
    "version": 3
   },
   "file_extension": ".py",
   "mimetype": "text/x-python",
   "name": "python",
   "nbconvert_exporter": "python",
   "pygments_lexer": "ipython3",
   "version": "3.12.7"
  }
 },
 "nbformat": 4,
 "nbformat_minor": 5
}
