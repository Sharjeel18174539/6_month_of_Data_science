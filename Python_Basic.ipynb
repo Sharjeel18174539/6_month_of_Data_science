{
 "cells": [
  {
   "cell_type": "code",
   "execution_count": 3,
   "id": "c4d472ac-9557-44df-a355-b56b3156bf29",
   "metadata": {},
   "outputs": [
    {
     "name": "stdout",
     "output_type": "stream",
     "text": [
      "my age is 24\n"
     ]
    }
   ],
   "source": [
    "# python format string\n",
    "age=24\n",
    "print(f\"my age is {age}\")"
   ]
  },
  {
   "cell_type": "code",
   "execution_count": 5,
   "id": "ac65c0f5-2fb2-4929-b46f-646c0072ff4b",
   "metadata": {},
   "outputs": [
    {
     "name": "stdout",
     "output_type": "stream",
     "text": [
      "lo w\n"
     ]
    }
   ],
   "source": [
    "# slicing string\n",
    "str=\"Hello world\"\n",
    "print(str[3:7])"
   ]
  },
  {
   "cell_type": "code",
   "execution_count": 9,
   "id": "85da1e2f-cf69-4767-8d38-861552ce1f5a",
   "metadata": {},
   "outputs": [
    {
     "name": "stdout",
     "output_type": "stream",
     "text": [
      "['Apple', 'Banana', 'Orange', 'Mango', 'Papaya', 'Grapes']\n"
     ]
    }
   ],
   "source": [
    "# list\n",
    "my_List=[\"Apple\", \"Banana\", \"Orange\", \"Mango\", \"Papaya\", \"Grapes\"]\n",
    "print(my_List)"
   ]
  },
  {
   "cell_type": "code",
   "execution_count": 11,
   "id": "e97c88c4-f202-4179-8f0e-8b08863d9967",
   "metadata": {},
   "outputs": [
    {
     "name": "stdout",
     "output_type": "stream",
     "text": [
      "Apple\n"
     ]
    }
   ],
   "source": [
    "print(my_List[0])"
   ]
  },
  {
   "cell_type": "code",
   "execution_count": 26,
   "id": "68edf6d9-63fb-47a9-86ab-566c58fc64bd",
   "metadata": {},
   "outputs": [
    {
     "name": "stdout",
     "output_type": "stream",
     "text": [
      "['abc', 34, True, 40, 'male']\n"
     ]
    }
   ],
   "source": [
    "# Acess the list\n",
    "\n",
    "list1 = [\"abc\", 34, True, 40, \"male\"]\n",
    "print(list1)\n"
   ]
  },
  {
   "cell_type": "code",
   "execution_count": 32,
   "id": "c40e7eec-3bbb-4e97-8aec-dce5afe380e3",
   "metadata": {},
   "outputs": [
    {
     "name": "stdout",
     "output_type": "stream",
     "text": [
      "['Apple', 'Banana', 46, True, 'hello']\n"
     ]
    }
   ],
   "source": [
    "list2=[\"Apple\",\"Banana\", 46, True, 'hello']\n",
    "print(list2)"
   ]
  },
  {
   "cell_type": "code",
   "execution_count": 5,
   "id": "d8514bde-d290-4321-97ee-3e8f06647c0d",
   "metadata": {},
   "outputs": [
    {
     "name": "stdout",
     "output_type": "stream",
     "text": [
      "['apple', 'banana', 'orange', 5, 'grapes', True]\n"
     ]
    }
   ],
   "source": [
    "this_list=[\"apple\", \"banana\", \"orange\", 5, \"grapes\", True]\n",
    "print(this_list)"
   ]
  },
  {
   "cell_type": "code",
   "execution_count": 7,
   "id": "458b4f53-ef88-451d-9588-d4c82ba0a9eb",
   "metadata": {},
   "outputs": [
    {
     "name": "stdout",
     "output_type": "stream",
     "text": [
      "['orange', 5, 'grapes']\n"
     ]
    }
   ],
   "source": [
    "print(this_list[2:5])"
   ]
  },
  {
   "cell_type": "code",
   "execution_count": 15,
   "id": "02889fc2-823e-40f0-a783-4e8ee9bc9519",
   "metadata": {},
   "outputs": [
    {
     "name": "stdout",
     "output_type": "stream",
     "text": [
      "not present in the list\n"
     ]
    }
   ],
   "source": [
    "if \"banan\" in this_list:\n",
    "    print(\"yes , 'banana' present in the list\" )\n",
    "else:\n",
    "    print(\"not present in the list\")"
   ]
  },
  {
   "cell_type": "code",
   "execution_count": 17,
   "id": "ecfdf079-65b8-40eb-8ebb-0abc4b045ee9",
   "metadata": {},
   "outputs": [
    {
     "name": "stdout",
     "output_type": "stream",
     "text": [
      "['apple', 'banana', 'orange', 'dates', 'grapes', True]\n"
     ]
    }
   ],
   "source": [
    "this_list[3]=\"dates\"\n",
    "print(this_list)"
   ]
  },
  {
   "cell_type": "code",
   "execution_count": 19,
   "id": "8978b19a-f7b4-43be-9e2b-a7df4965f55b",
   "metadata": {},
   "outputs": [
    {
     "name": "stdout",
     "output_type": "stream",
     "text": [
      "['apple', 'banana', 'Mango', 'orange', 'dates', 'grapes', True]\n"
     ]
    }
   ],
   "source": [
    "this_list.insert(2, \"Mango\")\n",
    "print(this_list)"
   ]
  },
  {
   "cell_type": "code",
   "execution_count": 21,
   "id": "8e4c7fed-ab2f-4eb6-9bed-285e1d05be05",
   "metadata": {},
   "outputs": [
    {
     "name": "stdout",
     "output_type": "stream",
     "text": [
      "['apple', 'banana', 'Mango', 'orange', 'dates', 'grapes', True, False]\n"
     ]
    }
   ],
   "source": [
    "this_list.append(False)\n",
    "print(this_list)"
   ]
  },
  {
   "cell_type": "code",
   "execution_count": 23,
   "id": "48cfb7a4-3d8f-4a6f-8f51-e1a2e852c9de",
   "metadata": {},
   "outputs": [
    {
     "name": "stdout",
     "output_type": "stream",
     "text": [
      "apple\n",
      "banana\n",
      "Mango\n",
      "orange\n",
      "dates\n",
      "grapes\n",
      "True\n",
      "False\n"
     ]
    }
   ],
   "source": [
    "for x in this_list:\n",
    "    print(x)"
   ]
  },
  {
   "cell_type": "code",
   "execution_count": 51,
   "id": "9510f282-41ac-4b56-bc63-3a496dda1d0d",
   "metadata": {},
   "outputs": [
    {
     "name": "stdout",
     "output_type": "stream",
     "text": [
      "[4, 2, 6, 1, 9]\n"
     ]
    }
   ],
   "source": [
    "my_list=[4, 2, 6, 1, 9]\n",
    "print(my_list)"
   ]
  },
  {
   "cell_type": "code",
   "execution_count": 53,
   "id": "b74ef5f7-149b-4383-bdc0-7298b3ea6f31",
   "metadata": {},
   "outputs": [
    {
     "name": "stdout",
     "output_type": "stream",
     "text": [
      "22\n"
     ]
    }
   ],
   "source": [
    "sum=0\n",
    "for x in my_list:\n",
    "    sum+=x\n",
    "print(sum)"
   ]
  },
  {
   "cell_type": "code",
   "execution_count": 57,
   "id": "4bcd9c94-ac58-40a5-9676-169ceacd4531",
   "metadata": {},
   "outputs": [
    {
     "name": "stdout",
     "output_type": "stream",
     "text": [
      "[1, 2, 4, 6, 9]\n"
     ]
    }
   ],
   "source": [
    "my_list.sort()\n",
    "print(my_list)"
   ]
  },
  {
   "cell_type": "code",
   "execution_count": 61,
   "id": "dc5ad98d-c8b3-4a4a-b662-657174018904",
   "metadata": {},
   "outputs": [
    {
     "name": "stdout",
     "output_type": "stream",
     "text": [
      "['Mango', 'Banana', 'Apple', 'Papaya', 'cherry', 'slum', 'lechi']\n"
     ]
    }
   ],
   "source": [
    "list_x=[\"Mango\", \"Banana\", \"Apple\", \"Papaya\", \"cherry\", \"slum\", \"lechi\"]\n",
    "print(list_x)"
   ]
  },
  {
   "cell_type": "code",
   "execution_count": 69,
   "id": "906a1e6f-322f-4116-b261-60874abb619a",
   "metadata": {},
   "outputs": [
    {
     "name": "stdout",
     "output_type": "stream",
     "text": [
      "['Mango', 'Banana', 'Papaya']\n"
     ]
    }
   ],
   "source": [
    "list_f = []\n",
    "for x in list_x:\n",
    "    if 'a' in x:\n",
    "        list_f.append(x)\n",
    "\n",
    "print(list_f)\n",
    "        "
   ]
  },
  {
   "cell_type": "code",
   "execution_count": 1,
   "id": "0ae5a838-b509-4fd5-bdcf-33c8fb4d55ef",
   "metadata": {},
   "outputs": [
    {
     "name": "stdout",
     "output_type": "stream",
     "text": [
      "['a', 'b', 'c', 'd']\n"
     ]
    }
   ],
   "source": [
    "list1=[\"a\", \"b\"]\n",
    "list2=[\"c\", \"d\"]\n",
    "list3=list1+list2\n",
    "print(list3)"
   ]
  },
  {
   "cell_type": "code",
   "execution_count": 1,
   "id": "3bb14408-5aac-470a-9493-b934734e06bc",
   "metadata": {},
   "outputs": [],
   "source": [
    "import random"
   ]
  },
  {
   "cell_type": "code",
   "execution_count": 5,
   "id": "e77efe12-d083-4e3d-a9be-e0adbaed6537",
   "metadata": {},
   "outputs": [
    {
     "name": "stdout",
     "output_type": "stream",
     "text": [
      "8\n"
     ]
    }
   ],
   "source": [
    "print(random.randrange(1,10))"
   ]
  },
  {
   "cell_type": "code",
   "execution_count": 7,
   "id": "73e8e1d2-58d1-4436-8275-3336d659201a",
   "metadata": {},
   "outputs": [],
   "source": [
    "str=\"iamsharjeel\""
   ]
  },
  {
   "cell_type": "code",
   "execution_count": 24,
   "id": "c3dcef0c-c844-4da8-8cb7-efe107c23de5",
   "metadata": {},
   "outputs": [
    {
     "name": "stdout",
     "output_type": "stream",
     "text": [
      "('Apple', 'Banana', 'Mango', 'papaya', 'orange')\n"
     ]
    }
   ],
   "source": [
    "tuple_1=(\"Apple\", \"Banana\", \"Mango\", \"papaya\",\"orange\" )\n",
    "print(tuple_1)"
   ]
  },
  {
   "cell_type": "code",
   "execution_count": 26,
   "id": "112311e6-f748-4ab4-abab-7f97f0dddc9b",
   "metadata": {},
   "outputs": [
    {
     "name": "stdout",
     "output_type": "stream",
     "text": [
      "Banana\n"
     ]
    }
   ],
   "source": [
    "print(tuple_1[1])"
   ]
  },
  {
   "cell_type": "code",
   "execution_count": 30,
   "id": "1dfda054-2a67-45e9-9788-9bec574ca11e",
   "metadata": {},
   "outputs": [
    {
     "name": "stdout",
     "output_type": "stream",
     "text": [
      "1\n"
     ]
    }
   ],
   "source": [
    "print(tuple_1.count(\"Apple\"))"
   ]
  },
  {
   "cell_type": "code",
   "execution_count": 32,
   "id": "7f93d829-d001-458d-9830-8e624a722d13",
   "metadata": {},
   "outputs": [],
   "source": [
    "# how to add item in tuple\n",
    "# 1.convert tuple to list"
   ]
  },
  {
   "cell_type": "code",
   "execution_count": 34,
   "id": "aec197e4-0eb5-49e5-b18e-3283a97c045e",
   "metadata": {},
   "outputs": [
    {
     "name": "stdout",
     "output_type": "stream",
     "text": [
      "['Apple', 'Banana', 'Mango', 'papaya', 'orange']\n"
     ]
    }
   ],
   "source": [
    "list1=list(tuple_1)\n",
    "print(list1)"
   ]
  },
  {
   "cell_type": "code",
   "execution_count": 36,
   "id": "42952bf7-e2ea-46ca-9407-670a11a59063",
   "metadata": {},
   "outputs": [],
   "source": [
    "list1.append(\"grapes\")"
   ]
  },
  {
   "cell_type": "code",
   "execution_count": 38,
   "id": "24fe5e55-32c9-4827-bbcc-eea7d729a402",
   "metadata": {},
   "outputs": [
    {
     "name": "stdout",
     "output_type": "stream",
     "text": [
      "['Apple', 'Banana', 'Mango', 'papaya', 'orange', 'grapes']\n"
     ]
    }
   ],
   "source": [
    "print(list1)"
   ]
  },
  {
   "cell_type": "code",
   "execution_count": 40,
   "id": "12f761aa-4f08-41e2-aca5-5425190f4c5c",
   "metadata": {},
   "outputs": [],
   "source": [
    "list1.insert(2 , \"value at 2\")"
   ]
  },
  {
   "cell_type": "code",
   "execution_count": 42,
   "id": "52b85792-8e88-45c9-81c9-359220974fd0",
   "metadata": {},
   "outputs": [
    {
     "name": "stdout",
     "output_type": "stream",
     "text": [
      "['Apple', 'Banana', 'value at 2', 'Mango', 'papaya', 'orange', 'grapes']\n"
     ]
    }
   ],
   "source": [
    "print(list1)"
   ]
  },
  {
   "cell_type": "code",
   "execution_count": 46,
   "id": "9197f8ac-0c1b-4e4d-9548-b5e89d658bdc",
   "metadata": {},
   "outputs": [],
   "source": [
    "tuple_1=tuple(list1)"
   ]
  },
  {
   "cell_type": "code",
   "execution_count": 48,
   "id": "5debba34-4bc9-4385-aa32-5b8d85cfeca9",
   "metadata": {},
   "outputs": [
    {
     "name": "stdout",
     "output_type": "stream",
     "text": [
      "('Apple', 'Banana', 'value at 2', 'Mango', 'papaya', 'orange', 'grapes')\n"
     ]
    }
   ],
   "source": [
    "print(tuple_1)"
   ]
  },
  {
   "cell_type": "markdown",
   "id": "6c769c68-90ea-4391-8983-5ae8b2b2aac1",
   "metadata": {},
   "source": [
    "<!-- Set -->"
   ]
  },
  {
   "cell_type": "code",
   "execution_count": 50,
   "id": "179828d4-425a-4204-a114-6f580bfad1cd",
   "metadata": {},
   "outputs": [
    {
     "name": "stdout",
     "output_type": "stream",
     "text": [
      "{'yes', 'world', 'apple', 'hello'}\n"
     ]
    }
   ],
   "source": [
    "set1={\"hello\", \"apple\", \"yes\", \"world\"}\n",
    "print(set1)"
   ]
  },
  {
   "cell_type": "code",
   "execution_count": 54,
   "id": "964ae5c1-e59a-4bdf-828b-0c41986dc710",
   "metadata": {},
   "outputs": [
    {
     "name": "stdout",
     "output_type": "stream",
     "text": [
      "{'world', 'hello', 'apple', 'sharjeel', 'yes'}\n"
     ]
    }
   ],
   "source": [
    "set1.add(\"sharjeel\")\n",
    "print(set1)"
   ]
  },
  {
   "cell_type": "code",
   "execution_count": 56,
   "id": "1c79dc0b-7d29-4894-8f2e-cdca3d83e443",
   "metadata": {},
   "outputs": [
    {
     "name": "stdout",
     "output_type": "stream",
     "text": [
      "{'is', 'used', 'world', 'to', 'update', 'hello', 'other', 'from', 'add', 'apple', 'set', 'sharjeel', 'yes'}\n"
     ]
    }
   ],
   "source": [
    "set2={\"to\", \"add\", \"from\", \"other\", \"set\", \"update\", \"is\", \"used\"}\n",
    "set1.update(set2)\n",
    "print(set1)"
   ]
  },
  {
   "cell_type": "code",
   "execution_count": 58,
   "id": "9703e2b5-e20e-4572-a236-ef12474e3d8b",
   "metadata": {},
   "outputs": [
    {
     "name": "stdout",
     "output_type": "stream",
     "text": [
      "{'is', 'used', 'world', 'to', 'update', 'hello', 'other', 'from', 'add', 'apple', 'set', 'sharjeel', 'yes'}\n"
     ]
    }
   ],
   "source": [
    "set1.add(\"yes\")\n",
    "print(set1)"
   ]
  },
  {
   "cell_type": "code",
   "execution_count": 64,
   "id": "a3c7a4ea-349b-4140-b3a8-94e7c3ee6b4c",
   "metadata": {},
   "outputs": [
    {
     "name": "stdout",
     "output_type": "stream",
     "text": [
      "{'is', 'used', 'world', 'to', 'update', 'hello', 'other', 'from', 'add', 'apple', 'set', 'sharjeel'}\n"
     ]
    }
   ],
   "source": [
    "set1.remove(\"yes\")\n",
    "print(set1)"
   ]
  },
  {
   "cell_type": "code",
   "execution_count": 88,
   "id": "1e9e0b71-f126-4eba-b206-0d067af9996c",
   "metadata": {},
   "outputs": [
    {
     "name": "stdout",
     "output_type": "stream",
     "text": [
      "{'two', 'three', 'one', 'five', 'six', 'four'}\n"
     ]
    }
   ],
   "source": [
    "set3={\"one\", \"two\", \"three\"}\n",
    "set4={\"four\", \"five\", \"six\" , \"one\"}\n",
    "myset=set4.union(set3)\n",
    "print(myset)"
   ]
  },
  {
   "cell_type": "code",
   "execution_count": 90,
   "id": "82416caa-e780-45be-9fe8-d36f6f2308b0",
   "metadata": {},
   "outputs": [
    {
     "name": "stdout",
     "output_type": "stream",
     "text": [
      "{'two', 'three', 'one', 'five', 'six', 'four'}\n"
     ]
    }
   ],
   "source": [
    "set3.update(set4)\n",
    "print(set3)"
   ]
  },
  {
   "cell_type": "code",
   "execution_count": 92,
   "id": "56f7dd5a-298b-4e4a-aaad-706930b88c10",
   "metadata": {},
   "outputs": [
    {
     "name": "stdout",
     "output_type": "stream",
     "text": [
      "{'five', 'six', 'one', 'four'}\n"
     ]
    }
   ],
   "source": [
    "my_set=set3.intersection(set4)\n",
    "print(my_set)"
   ]
  },
  {
   "cell_type": "code",
   "execution_count": 94,
   "id": "d7a1d6b4-eee5-4a5d-afc4-54a8360dab61",
   "metadata": {},
   "outputs": [
    {
     "name": "stdout",
     "output_type": "stream",
     "text": [
      "{'microsoft', 'cherry', 'google', 'banana'}\n"
     ]
    }
   ],
   "source": [
    "set6 = {\"apple\", \"banana\", \"cherry\"} \n",
    "set7 = {\"google\", \"microsoft\", \"apple\"} \n",
    "set8 = set6 ^ set7\n",
    "print(set8) "
   ]
  },
  {
   "cell_type": "code",
   "execution_count": 96,
   "id": "743be933-c901-4a65-84d0-4ebe036bba82",
   "metadata": {},
   "outputs": [
    {
     "name": "stdout",
     "output_type": "stream",
     "text": [
      "Clean Data: [10, 20, 30, 40]\n",
      "Average: 25.0\n"
     ]
    }
   ],
   "source": [
    "data = [\"10\", \"20\", \"30\", \"error\", \"40\"]\n",
    "\n",
    "# Convert valid strings to integers and ignore invalid ones\n",
    "clean_data = [int(x) for x in data if x.isdigit()]\n",
    "\n",
    "# Now calculate the average\n",
    "average = sum(clean_data) / len(clean_data)\n",
    "\n",
    "print(\"Clean Data:\", clean_data)\n",
    "print(\"Average:\", average)\n"
   ]
  },
  {
   "cell_type": "code",
   "execution_count": 108,
   "id": "09c2bb42-cfdb-4c0a-9db4-065e5ce5c10d",
   "metadata": {},
   "outputs": [
    {
     "name": "stdin",
     "output_type": "stream",
     "text": [
      "Enter values separated by commas:  12 ,34, ten, 2\n"
     ]
    },
    {
     "name": "stdout",
     "output_type": "stream",
     "text": [
      "Cleaned Data: [2, 12, 34]\n"
     ]
    }
   ],
   "source": [
    "def clean_and_filter_data(raw_list):\n",
    "    cleaned_data = []\n",
    "\n",
    "    for item in raw_list:\n",
    "        item = item.strip()  # Remove leading/trailing spaces\n",
    "        if item.isdigit():   # Keep only numeric values\n",
    "            cleaned_data.append(int(item))\n",
    "\n",
    "    # Remove duplicates by converting to a set, then back to a list\n",
    "    unique_data = list(set(cleaned_data))\n",
    "    unique_data.sort()\n",
    "\n",
    "    return unique_data\n",
    "\n",
    "# Example user input (could come from file or keyboard)\n",
    "raw_input = input(\"Enter values separated by commas: \")\n",
    "\n",
    "# Convert to list and clean\n",
    "raw_list = raw_input.split(',')\n",
    "cleaned_result = clean_and_filter_data(raw_list)\n",
    "\n",
    "print(\"Cleaned Data:\", cleaned_result)\n"
   ]
  },
  {
   "cell_type": "code",
   "execution_count": null,
   "id": "c53401d4-06b1-4a89-98be-b3ee9723a941",
   "metadata": {},
   "outputs": [],
   "source": [
    "def "
   ]
  }
 ],
 "metadata": {
  "kernelspec": {
   "display_name": "Python [conda env:base] *",
   "language": "python",
   "name": "conda-base-py"
  },
  "language_info": {
   "codemirror_mode": {
    "name": "ipython",
    "version": 3
   },
   "file_extension": ".py",
   "mimetype": "text/x-python",
   "name": "python",
   "nbconvert_exporter": "python",
   "pygments_lexer": "ipython3",
   "version": "3.12.7"
  }
 },
 "nbformat": 4,
 "nbformat_minor": 5
}
